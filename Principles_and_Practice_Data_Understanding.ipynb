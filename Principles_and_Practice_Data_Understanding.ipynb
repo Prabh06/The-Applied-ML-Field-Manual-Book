{
  "nbformat": 4,
  "nbformat_minor": 0,
  "metadata": {
    "colab": {
      "name": "Principles and Practice: Data Understanding",
      "provenance": [],
      "authorship_tag": "ABX9TyMZGrIGL1BO7/ShfLzZak0K",
      "include_colab_link": true
    },
    "kernelspec": {
      "name": "python3",
      "display_name": "Python 3"
    }
  },
  "cells": [
    {
      "cell_type": "markdown",
      "metadata": {
        "id": "view-in-github",
        "colab_type": "text"
      },
      "source": [
        "<a href=\"https://colab.research.google.com/github/Prabh06/The-Applied-ML-Field-Manual-Book/blob/master/Principles_and_Practice_Data_Understanding.ipynb\" target=\"_parent\"><img src=\"https://colab.research.google.com/assets/colab-badge.svg\" alt=\"Open In Colab\"/></a>"
      ]
    },
    {
      "cell_type": "markdown",
      "metadata": {
        "id": "kg0XEWHN-Heg",
        "colab_type": "text"
      },
      "source": [
        "## **Principles and Practice: Data Understanding**\n",
        "#### For the book **The Applied ML Field Manual by Prithiviraj Damodaran**\n",
        "----\n",
        "In this notebook we will take a deep dive into data understanding. The inpisration for this dataset is from here [here](https://github.com/rudeboybert/JSE_OkCupid/blob/master/profiles.csv.zip)\n",
        "\n",
        "**The ML Problem statement:**  Tag the members based on the self-declared profile attributes and preferences to enable member recommendations. Tags could be health-conscious, fitness-freak, 420-friendly, coffee-aficionado, wine connoisseur, marathon-runner etc..as shown below. \n",
        "\n",
        "<center> <img src=\"https://github.com/PrithivirajDamodaran/The-Applied-ML-Field-Manual-Book/blob/master/Chapter%202:%20Data%20Understanding%20Principles/images/Tagged.png\" style=\"width:700px;height:200px\"></img></center>\n",
        "\n",
        "**Goal of EDA** Taking one thread of that target problem statement we will explore the dataset to see what the life style, habits and diet choices of the members in San Fransisco reveal about their overall fitness and explore the possibilities of tagging members as **health conscious or not**. Note: An important life style factor to measure the fitness level: how active the members were ? is not among the attributes. But some preliminary analysis revealed that the hobbies mentioned in the essay text can help us extract a new feature \"isActive\". But thats a NLP task and out of scope for the current chapter.\n",
        "\n",
        "**We will be using the battle tested tech stack for applied ML**\n",
        "\n",
        "<center> <img src=\"https://github.com/PrithivirajDamodaran/The-Applied-ML-Field-Manual-Book/blob/master/Chapter%202:%20Data%20Understanding%20Principles/images/IMG_1959.jpeg\" style=\"width:420px;height:300px\"></img></center>"
      ]
    },
    {
      "cell_type": "code",
      "metadata": {
        "id": "6q_739Bn-C0m",
        "colab_type": "code",
        "colab": {}
      },
      "source": [
        ""
      ],
      "execution_count": null,
      "outputs": []
    }
  ]
}